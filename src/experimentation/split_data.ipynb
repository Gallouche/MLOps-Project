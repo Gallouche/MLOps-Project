{
 "cells": [
  {
   "cell_type": "markdown",
   "id": "ea31f7b1de5f3471",
   "metadata": {},
   "source": [
    "# Split data\n",
    "\n",
    "Split the data into the following tree:\n",
    "\n",
    "```\n",
    "dataset/\n",
    "├── train/\n",
    "│   ├── images/\n",
    "│   └── labels/\n",
    "├── val/\n",
    "│   ├── images/\n",
    "│   └── labels/\n",
    "└── test/\n",
    "    ├── images/\n",
    "    └── labels/\n",
    "```\n",
    "    \n",
    "Generate a dataset.yaml file containing the information about the data needed for YOLO.\n"
   ]
  },
  {
   "cell_type": "code",
   "execution_count": 1,
   "id": "ead310713d93997b",
   "metadata": {
    "ExecuteTime": {
     "end_time": "2024-11-26T09:42:31.940085Z",
     "start_time": "2024-11-26T09:42:29.565557Z"
    }
   },
   "outputs": [],
   "source": [
    "# Import\n",
    "import os\n",
    "from sklearn.model_selection import train_test_split\n",
    "import shutil\n",
    "import json\n",
    "import yaml"
   ]
  },
  {
   "cell_type": "code",
   "execution_count": 2,
   "id": "89b20d77dbdd53d3",
   "metadata": {
    "ExecuteTime": {
     "end_time": "2024-11-26T09:42:31.960067Z",
     "start_time": "2024-11-26T09:42:31.954097Z"
    }
   },
   "outputs": [],
   "source": [
    "output_director = '../datasets/dataset/'\n",
    "input_images = '../datasets/images/'\n",
    "input_labels = '../datasets/annotations_yolo/'\n",
    "paht_label_dict = 'label_dict.json'"
   ]
  },
  {
   "cell_type": "code",
   "execution_count": 3,
   "id": "initial_id",
   "metadata": {
    "ExecuteTime": {
     "end_time": "2024-11-26T09:42:32.125760Z",
     "start_time": "2024-11-26T09:42:32.116238Z"
    },
    "collapsed": true,
    "jupyter": {
     "outputs_hidden": true
    }
   },
   "outputs": [],
   "source": [
    "\n",
    "# Create the directories\n",
    "os.makedirs(output_director, exist_ok=True)\n",
    "os.makedirs(output_director + 'train/images/', exist_ok=True)\n",
    "os.makedirs(output_director + 'train/labels/', exist_ok=True)\n",
    "os.makedirs(output_director + 'val/images/', exist_ok=True)\n",
    "os.makedirs(output_director + 'val/labels/', exist_ok=True)\n",
    "os.makedirs(output_director + 'test/images/', exist_ok=True)\n",
    "os.makedirs(output_director + 'test/labels/', exist_ok=True)"
   ]
  },
  {
   "cell_type": "markdown",
   "id": "300b6303a1541e33",
   "metadata": {},
   "source": [
    "### Split the data\n",
    "\n",
    "Careful, this split is only for testing with yolo. It should be modified for the final pipeline."
   ]
  },
  {
   "cell_type": "code",
   "execution_count": 4,
   "id": "7c2da25138519380",
   "metadata": {
    "ExecuteTime": {
     "end_time": "2024-11-26T09:42:32.156911Z",
     "start_time": "2024-11-26T09:42:32.140760Z"
    }
   },
   "outputs": [],
   "source": [
    "with open('../datasets/splits/val.txt', 'r') as f:\n",
    "    val_files = f.readlines()\n",
    "\n",
    "# split val_files into 3 datasets\n",
    "val_files = [f.strip() for f in val_files]\n",
    "\n",
    "X_train, X_val = train_test_split(val_files, test_size=0.6, random_state=42)\n",
    "X_val, X_test = train_test_split(X_val, test_size=0.5, random_state=42)"
   ]
  },
  {
   "cell_type": "markdown",
   "id": "77c86587907ebd75",
   "metadata": {},
   "source": [
    "### Copy files to the new directories"
   ]
  },
  {
   "cell_type": "code",
   "execution_count": 5,
   "id": "333543040f1c90e8",
   "metadata": {
    "ExecuteTime": {
     "end_time": "2024-11-26T09:42:32.179348Z",
     "start_time": "2024-11-26T09:42:32.173618Z"
    }
   },
   "outputs": [],
   "source": [
    "def copy_files(files, src, dest):\n",
    "    for f in files:\n",
    "        shutil.copy(src + f + '.jpg', dest + 'images/')\n",
    "        shutil.copy(input_labels + f + '.txt', dest + 'labels/')   "
   ]
  },
  {
   "cell_type": "code",
   "execution_count": 6,
   "id": "18050f2f6a7eb5aa",
   "metadata": {
    "ExecuteTime": {
     "end_time": "2024-11-26T09:43:11.973727Z",
     "start_time": "2024-11-26T09:42:32.215518Z"
    }
   },
   "outputs": [],
   "source": [
    "copy_files(X_train, input_images, output_director + 'train/')\n",
    "copy_files(X_val, input_images, output_director + 'val/')\n",
    "copy_files(X_test, input_images, output_director + 'test/')"
   ]
  },
  {
   "cell_type": "code",
   "execution_count": 7,
   "id": "6b2af26f0c3e6bac",
   "metadata": {
    "ExecuteTime": {
     "end_time": "2024-11-26T09:43:12.003617Z",
     "start_time": "2024-11-26T09:43:11.997177Z"
    }
   },
   "outputs": [],
   "source": [
    "def creat_dataset_yaml(output_director, paht_label_dict):\n",
    "    # Load the label dict\n",
    "    with open(paht_label_dict, 'r') as f:\n",
    "        label_dict = json.load(f)\n",
    "        \n",
    "    # Create the dataset.yaml file\n",
    "    data = {\n",
    "        'train': '../../datasets/dataset/train/images/',\n",
    "        'val': '../../datasets/dataset/val/images/',\n",
    "        'test': '../../datasets/dataset/test/images/',\n",
    "        'nc': len(label_dict),\n",
    "        'names': list(label_dict.keys())\n",
    "    }\n",
    "    \n",
    "    with open('dataset.yaml', 'w') as f:\n",
    "        yaml.dump(data, f)"
   ]
  },
  {
   "cell_type": "code",
   "execution_count": 8,
   "id": "d3d2a43e35503bb0",
   "metadata": {
    "ExecuteTime": {
     "end_time": "2024-11-26T09:43:12.033063Z",
     "start_time": "2024-11-26T09:43:12.016611Z"
    }
   },
   "outputs": [],
   "source": [
    "creat_dataset_yaml(output_director, paht_label_dict)    "
   ]
  }
 ],
 "metadata": {
  "kernelspec": {
   "display_name": "Python 3 (ipykernel)",
   "language": "python",
   "name": "python3"
  },
  "language_info": {
   "codemirror_mode": {
    "name": "ipython",
    "version": 3
   },
   "file_extension": ".py",
   "mimetype": "text/x-python",
   "name": "python",
   "nbconvert_exporter": "python",
   "pygments_lexer": "ipython3",
   "version": "3.12.5"
  }
 },
 "nbformat": 4,
 "nbformat_minor": 5
}
