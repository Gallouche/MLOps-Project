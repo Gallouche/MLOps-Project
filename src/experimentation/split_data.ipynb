{
 "cells": [
  {
   "metadata": {},
   "cell_type": "markdown",
   "source": [
    "# Split data\n",
    "\n",
    "Split the data into the following tree:\n",
    "\n",
    "```\n",
    "dataset/\n",
    "├── train/\n",
    "│   ├── images/\n",
    "│   └── labels/\n",
    "├── val/\n",
    "│   ├── images/\n",
    "│   └── labels/\n",
    "└── test/\n",
    "    ├── images/\n",
    "    └── labels/\n",
    "```\n",
    "    \n",
    "Generate a dataset.yaml file containing the information about the data needed for YOLO.\n"
   ],
   "id": "ea31f7b1de5f3471"
  },
  {
   "metadata": {
    "ExecuteTime": {
     "end_time": "2024-11-26T09:42:31.940085Z",
     "start_time": "2024-11-26T09:42:29.565557Z"
    }
   },
   "cell_type": "code",
   "source": [
    "# Import\n",
    "import os\n",
    "from sklearn.model_selection import train_test_split\n",
    "import shutil\n",
    "import json\n",
    "import yaml"
   ],
   "id": "ead310713d93997b",
   "outputs": [],
   "execution_count": 1
  },
  {
   "metadata": {
    "ExecuteTime": {
     "end_time": "2024-11-26T09:42:31.960067Z",
     "start_time": "2024-11-26T09:42:31.954097Z"
    }
   },
   "cell_type": "code",
   "source": [
    "output_director = '../datasets/dataset/'\n",
    "input_images = '../datasets/images/'\n",
    "input_labels = '../datasets/annotations_yolo/'\n",
    "paht_label_dict = 'label_dict.json'"
   ],
   "id": "89b20d77dbdd53d3",
   "outputs": [],
   "execution_count": 2
  },
  {
   "cell_type": "code",
   "id": "initial_id",
   "metadata": {
    "collapsed": true,
    "ExecuteTime": {
     "end_time": "2024-11-26T09:42:32.125760Z",
     "start_time": "2024-11-26T09:42:32.116238Z"
    }
   },
   "source": [
    "\n",
    "# Create the directories\n",
    "os.makedirs(output_director, exist_ok=True)\n",
    "os.makedirs(output_director + 'train/images/', exist_ok=True)\n",
    "os.makedirs(output_director + 'train/labels/', exist_ok=True)\n",
    "os.makedirs(output_director + 'val/images/', exist_ok=True)\n",
    "os.makedirs(output_director + 'val/labels/', exist_ok=True)\n",
    "os.makedirs(output_director + 'test/images/', exist_ok=True)\n",
    "os.makedirs(output_director + 'test/labels/', exist_ok=True)"
   ],
   "outputs": [],
   "execution_count": 3
  },
  {
   "metadata": {},
   "cell_type": "markdown",
   "source": [
    "### Split the data\n",
    "\n",
    "Careful, this split is only for testing with yolo. It should be modified for the final pipeline."
   ],
   "id": "300b6303a1541e33"
  },
  {
   "metadata": {
    "ExecuteTime": {
     "end_time": "2024-11-26T09:42:32.156911Z",
     "start_time": "2024-11-26T09:42:32.140760Z"
    }
   },
   "cell_type": "code",
   "source": [
    "with open('../datasets/splits/val.txt', 'r') as f:\n",
    "    val_files = f.readlines()\n",
    "\n",
    "# split val_files into 3 datasets\n",
    "val_files = [f.strip() for f in val_files]\n",
    "\n",
    "X_train, X_val = train_test_split(val_files, test_size=0.6, random_state=42)\n",
    "X_val, X_test = train_test_split(X_val, test_size=0.5, random_state=42)"
   ],
   "id": "7c2da25138519380",
   "outputs": [],
   "execution_count": 4
  },
  {
   "metadata": {},
   "cell_type": "markdown",
   "source": "### Copy files to the new directories",
   "id": "77c86587907ebd75"
  },
  {
   "metadata": {
    "ExecuteTime": {
     "end_time": "2024-11-26T09:42:32.179348Z",
     "start_time": "2024-11-26T09:42:32.173618Z"
    }
   },
   "cell_type": "code",
   "source": [
    "def copy_files(files, src, dest):\n",
    "    for f in files:\n",
    "        shutil.copy(src + f + '.jpg', dest + 'images/')\n",
    "        shutil.copy(input_labels + f + '.txt', dest + 'labels/')   "
   ],
   "id": "333543040f1c90e8",
   "outputs": [],
   "execution_count": 5
  },
  {
   "metadata": {
    "ExecuteTime": {
     "end_time": "2024-11-26T09:43:11.973727Z",
     "start_time": "2024-11-26T09:42:32.215518Z"
    }
   },
   "cell_type": "code",
   "source": [
    "copy_files(X_train, input_images, output_director + 'train/')\n",
    "copy_files(X_val, input_images, output_director + 'val/')\n",
    "copy_files(X_test, input_images, output_director + 'test/')"
   ],
   "id": "18050f2f6a7eb5aa",
   "outputs": [],
   "execution_count": 6
  },
  {
   "metadata": {
    "ExecuteTime": {
     "end_time": "2024-11-26T09:43:12.003617Z",
     "start_time": "2024-11-26T09:43:11.997177Z"
    }
   },
   "cell_type": "code",
   "source": [
    "def creat_dataset_yaml(output_director, paht_label_dict):\n",
    "    # Load the label dict\n",
    "    with open(paht_label_dict, 'r') as f:\n",
    "        label_dict = json.load(f)\n",
    "        \n",
    "    # Create the dataset.yaml file\n",
    "    data = {\n",
    "        'train': '../../datasets/dataset/train/images/',\n",
    "        'val': '../../datasets/dataset/val/images/',\n",
    "        'test': '../../datasets/dataset/test/images/',\n",
    "        'nc': len(label_dict),\n",
    "        'names': list(label_dict.keys())\n",
    "    }\n",
    "    \n",
    "    with open('dataset.yaml', 'w') as f:\n",
    "        yaml.dump(data, f)"
   ],
   "id": "6b2af26f0c3e6bac",
   "outputs": [],
   "execution_count": 7
  },
  {
   "metadata": {
    "ExecuteTime": {
     "end_time": "2024-11-26T09:43:12.033063Z",
     "start_time": "2024-11-26T09:43:12.016611Z"
    }
   },
   "cell_type": "code",
   "source": "creat_dataset_yaml(output_director, paht_label_dict)    ",
   "id": "d3d2a43e35503bb0",
   "outputs": [],
   "execution_count": 8
  }
 ],
 "metadata": {
  "kernelspec": {
   "display_name": "Python 3",
   "language": "python",
   "name": "python3"
  },
  "language_info": {
   "codemirror_mode": {
    "name": "ipython",
    "version": 2
   },
   "file_extension": ".py",
   "mimetype": "text/x-python",
   "name": "python",
   "nbconvert_exporter": "python",
   "pygments_lexer": "ipython2",
   "version": "2.7.6"
  }
 },
 "nbformat": 4,
 "nbformat_minor": 5
}
