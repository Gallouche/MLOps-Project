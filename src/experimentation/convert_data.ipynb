{
 "cells": [
  {
   "metadata": {},
   "cell_type": "markdown",
   "source": [
    "# Convert data\n",
    "\n",
    "Convert json data to txt format requested by Yolo. One txt file per image with the annotations of each object, each line corresponding to an object with the coordinates of the bounding box and the label of the object."
   ],
   "id": "7e64f6c5a6aa264a"
  },
  {
   "metadata": {
    "ExecuteTime": {
     "end_time": "2024-11-26T08:20:20.642151Z",
     "start_time": "2024-11-26T08:20:20.631285Z"
    }
   },
   "cell_type": "code",
   "source": [
    "import json\n",
    "import os"
   ],
   "id": "695489e8065fe741",
   "outputs": [],
   "execution_count": 1
  },
  {
   "metadata": {
    "ExecuteTime": {
     "end_time": "2024-11-26T08:20:21.382189Z",
     "start_time": "2024-11-26T08:20:21.375578Z"
    }
   },
   "cell_type": "code",
   "source": [
    "def count_element_per_label(json_dir):\n",
    "    label_dict = {}\n",
    "    \n",
    "    # Iterate over all JSON files in the directory\n",
    "    for json_file in os.listdir(json_dir):\n",
    "        if json_file.endswith(\".json\"):\n",
    "            with open(os.path.join(json_dir, json_file), 'r') as f:\n",
    "                data = json.load(f)\n",
    "                for obj in data.get('objects', []):\n",
    "                    label = obj['label']\n",
    "                    # Count the occurrences of each label\n",
    "                    if label not in label_dict:\n",
    "                        label_dict[label] = 1\n",
    "                    else:\n",
    "                        label_dict[label] += 1\n",
    "    return label_dict\n",
    "    "
   ],
   "id": "1b782344e68181c2",
   "outputs": [],
   "execution_count": 2
  },
  {
   "metadata": {},
   "cell_type": "markdown",
   "source": [
    "### min_occurrences\n",
    "\n",
    "There are a large number of labels that appear only a few times in the entire dataset (less than 100 classes, for a total of 40,000 images). It is therefore possible to filter them with min_occurrences."
   ],
   "id": "648e31baeb7e5137"
  },
  {
   "metadata": {},
   "cell_type": "code",
   "source": [
    "def generate_label_dict(json_dir, min_occurrences=500):\n",
    "    # Count the occurrences of each label\n",
    "    label_dict = count_element_per_label(json_dir)\n",
    "    \n",
    "    # Filter the labels with less than min_occurrences occurrences\n",
    "    label_dict = {k: v for k, v in label_dict.items() if v >= min_occurrences}\n",
    "    \n",
    "    # Generate the label dictionary\n",
    "    label_dict = {label: i for i, label in enumerate(label_dict.keys())}\n",
    "    \n",
    "    return label_dict"
   ],
   "id": "b80026cc1f6b3632",
   "outputs": [],
   "execution_count": 3
  },
  {
   "metadata": {},
   "cell_type": "code",
   "source": [
    "def convert_to_yolo(json_path, output_dir, label_dict):\n",
    "    # Load the json file\n",
    "    with open(json_path, 'r') as f:\n",
    "        data = json.load(f)\n",
    "\n",
    "    # Read the image width and height from the JSON\n",
    "    image_width = data['width']\n",
    "    image_height = data['height']\n",
    "\n",
    "    # Initialize the list to store annotations\n",
    "    annotations = []\n",
    "\n",
    "    # Iterate over all objects in the JSON\n",
    "    for obj in data['objects']:\n",
    "        label = obj['label']\n",
    "        if label not in label_dict:\n",
    "            continue  # Ignore the label if not in the dictionary\n",
    "\n",
    "        class_id = label_dict[label]\n",
    "        bbox = obj['bbox']\n",
    "\n",
    "        # Extract the coordinates\n",
    "        xmin, ymin, xmax, ymax = bbox['xmin'], bbox['ymin'], bbox['xmax'], bbox['ymax']\n",
    "\n",
    "        # Normalize the coordinates\n",
    "        x_center = ((xmin + xmax) / 2) / image_width\n",
    "        y_center = ((ymin + ymax) / 2) / image_height\n",
    "        width = (xmax - xmin) / image_width\n",
    "        height = (ymax - ymin) / image_height\n",
    "\n",
    "        # Append the annotation in YOLO format\n",
    "        annotations.append(f\"{class_id} {x_center:.6f} {y_center:.6f} {width:.6f} {height:.6f}\")\n",
    "\n",
    "    # Save the annotations to a text file\n",
    "    output_file = os.path.join(output_dir, os.path.splitext(os.path.basename(json_path))[0] + \".txt\")\n",
    "    with open(output_file, 'w') as f:\n",
    "        f.write(\"\\n\".join(annotations))"
   ],
   "id": "36aca7705007160d",
   "outputs": [],
   "execution_count": 4
  },
  {
   "metadata": {},
   "cell_type": "code",
   "source": [
    "def convert_all_to_yolo(json_directory, output_directory, label_dict):\n",
    "    for json_file in os.listdir(json_directory):\n",
    "        if json_file.endswith(\".json\"):\n",
    "            json_path = os.path.join(json_directory, json_file)\n",
    "            convert_to_yolo(json_path, output_directory, label_dict)\n",
    "\n",
    "    print(f\"Annotations sauvegardées dans : {output_directory}\")"
   ],
   "id": "f541812aa5b39ad1",
   "outputs": [],
   "execution_count": 5
  },
  {
   "metadata": {},
   "cell_type": "code",
   "source": [
    "# Path, only thing to change if needed\n",
    "json_directory = \"../datasets/annotations/\"\n",
    "output_directory = \"../datasets/annotations_yolo/\""
   ],
   "id": "25c461c4d9e2c992",
   "outputs": [],
   "execution_count": 6
  },
  {
   "metadata": {},
   "cell_type": "code",
   "source": [
    "# Generate the label dictionary\n",
    "label_dict = generate_label_dict(json_directory, min_occurrences=500)\n",
    "\n",
    "# save the label dictionary\n",
    "with open(\"label_dict.json\", \"w\") as f:\n",
    "    json.dump(label_dict, f)\n",
    "\n",
    "print(\"Dictionnaire généré :\", label_dict)"
   ],
   "id": "ff0e59f17de9ab4a",
   "outputs": [
    {
     "name": "stdout",
     "output_type": "stream",
     "text": [
      "Dictionnaire généré : {'other-sign': 0, 'regulatory--keep-right--g1': 1, 'warning--curve-left--g2': 2, 'regulatory--keep-right--g4': 3, 'warning--pedestrians-crossing--g4': 4, 'regulatory--yield--g1': 5, 'regulatory--one-way-straight--g1': 6, 'regulatory--no-entry--g1': 7, 'regulatory--no-stopping--g15': 8, 'information--pedestrians-crossing--g1': 9, 'information--parking--g1': 10, 'regulatory--stop--g1': 11, 'regulatory--maximum-speed-limit-30--g1': 12, 'regulatory--priority-road--g4': 13, 'complementary--chevron-left--g1': 14, 'regulatory--maximum-speed-limit-60--g1': 15, 'regulatory--maximum-speed-limit-40--g1': 16, 'complementary--chevron-right--g1': 17, 'regulatory--maximum-speed-limit-50--g1': 18, 'regulatory--no-parking--g5': 19, 'regulatory--no-parking--g2': 20, 'regulatory--no-parking--g1': 21, 'warning--road-bump--g2': 22}\n"
     ]
    }
   ],
   "execution_count": 7
  },
  {
   "metadata": {
    "collapsed": true,
    "ExecuteTime": {
     "end_time": "2024-12-02T08:28:53.230641Z",
     "start_time": "2024-12-02T08:28:09.856364Z"
    }
   },
   "cell_type": "code",
   "source": [
    "# Create the output directory if it does not exist\n",
    "os.makedirs(output_directory, exist_ok=True)\n",
    "\n",
    "# Load the label dictionary\n",
    "with open(\"label_dict.json\", \"r\") as f:\n",
    "    label_dict = json.load(f)\n",
    "\n",
    "# Convert all JSON files to YOLO format\n",
    "convert_all_to_yolo(json_directory, output_directory, label_dict)"
   ],
   "id": "initial_id",
   "outputs": [
    {
     "name": "stdout",
     "output_type": "stream",
     "text": [
      "Annotations sauvegardées dans : ../datasets/annotations_yolo/\n"
     ]
    }
   ],
   "execution_count": 8
  }
 ],
 "metadata": {
  "kernelspec": {
   "display_name": "Python 3",
   "language": "python",
   "name": "python3"
  },
  "language_info": {
   "codemirror_mode": {
    "name": "ipython",
    "version": 2
   },
   "file_extension": ".py",
   "mimetype": "text/x-python",
   "name": "python",
   "nbconvert_exporter": "python",
   "pygments_lexer": "ipython2",
   "version": "2.7.6"
  }
 },
 "nbformat": 4,
 "nbformat_minor": 5
}
