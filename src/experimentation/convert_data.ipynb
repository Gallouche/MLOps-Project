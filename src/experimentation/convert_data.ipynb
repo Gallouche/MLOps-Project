{
 "cells": [
  {
   "metadata": {},
   "cell_type": "markdown",
   "source": [
    "# Convert data\n",
    "\n",
    "Convert json data to txt format requested by Yolo. One txt file per image with the annotations of each object, each line corresponding to an object with the coordinates of the bounding box and the label of the object."
   ],
   "id": "7e64f6c5a6aa264a"
  },
  {
   "metadata": {
    "ExecuteTime": {
     "end_time": "2024-11-26T08:20:20.642151Z",
     "start_time": "2024-11-26T08:20:20.631285Z"
    }
   },
   "cell_type": "code",
   "source": [
    "import json\n",
    "import os"
   ],
   "id": "695489e8065fe741",
   "outputs": [],
   "execution_count": 1
  },
  {
   "metadata": {
    "ExecuteTime": {
     "end_time": "2024-11-26T08:20:21.382189Z",
     "start_time": "2024-11-26T08:20:21.375578Z"
    }
   },
   "cell_type": "code",
   "source": [
    "def count_element_per_label(json_dir):\n",
    "    label_dict = {}\n",
    "    \n",
    "    # Iterate over all JSON files in the directory\n",
    "    for json_file in os.listdir(json_dir):\n",
    "        if json_file.endswith(\".json\"):\n",
    "            with open(os.path.join(json_dir, json_file), 'r') as f:\n",
    "                data = json.load(f)\n",
    "                for obj in data.get('objects', []):\n",
    "                    label = obj['label']\n",
    "                    # Count the occurrences of each label\n",
    "                    if label not in label_dict:\n",
    "                        label_dict[label] = 1\n",
    "                    else:\n",
    "                        label_dict[label] += 1\n",
    "    return label_dict\n",
    "    "
   ],
   "id": "1b782344e68181c2",
   "outputs": [],
   "execution_count": 2
  },
  {
   "metadata": {},
   "cell_type": "markdown",
   "source": [
    "### min_occurrences\n",
    "\n",
    "There are a large number of labels that appear only a few times in the entire dataset (less than 100 classes, for a total of 40,000 images). It is therefore possible to filter them with min_occurrences."
   ],
   "id": "648e31baeb7e5137"
  },
  {
   "metadata": {
    "ExecuteTime": {
     "end_time": "2024-11-26T08:20:21.768526Z",
     "start_time": "2024-11-26T08:20:21.762093Z"
    }
   },
   "cell_type": "code",
   "source": [
    "def generate_label_dict(json_dir, min_occurrences=10):\n",
    "    # Count the occurrences of each label\n",
    "    label_dict = count_element_per_label(json_dir)\n",
    "    \n",
    "    # Filter the labels with less than min_occurrences occurrences\n",
    "    label_dict = {k: v for k, v in label_dict.items() if v >= min_occurrences}\n",
    "    \n",
    "    # Generate the label dictionary\n",
    "    label_dict = {label: i for i, label in enumerate(label_dict.keys())}\n",
    "    \n",
    "    return label_dict"
   ],
   "id": "b80026cc1f6b3632",
   "outputs": [],
   "execution_count": 3
  },
  {
   "metadata": {
    "ExecuteTime": {
     "end_time": "2024-11-26T08:20:21.998183Z",
     "start_time": "2024-11-26T08:20:21.990549Z"
    }
   },
   "cell_type": "code",
   "source": [
    "def convert_to_yolo(json_path, output_dir, label_dict):\n",
    "    # Load the json file\n",
    "    with open(json_path, 'r') as f:\n",
    "        data = json.load(f)\n",
    "\n",
    "    # Read the image width and height from the JSON\n",
    "    image_width = data['width']\n",
    "    image_height = data['height']\n",
    "\n",
    "    # Initialize the list to store annotations\n",
    "    annotations = []\n",
    "\n",
    "    # Iterate over all objects in the JSON\n",
    "    for obj in data['objects']:\n",
    "        label = obj['label']\n",
    "        if label not in label_dict:\n",
    "            continue  # Ignore the label if not in the dictionary\n",
    "\n",
    "        class_id = label_dict[label]\n",
    "        bbox = obj['bbox']\n",
    "\n",
    "        # Extract the coordinates\n",
    "        xmin, ymin, xmax, ymax = bbox['xmin'], bbox['ymin'], bbox['xmax'], bbox['ymax']\n",
    "\n",
    "        # Normalize the coordinates\n",
    "        x_center = ((xmin + xmax) / 2) / image_width\n",
    "        y_center = ((ymin + ymax) / 2) / image_height\n",
    "        width = (xmax - xmin) / image_width\n",
    "        height = (ymax - ymin) / image_height\n",
    "\n",
    "        # Append the annotation in YOLO format\n",
    "        annotations.append(f\"{class_id} {x_center:.6f} {y_center:.6f} {width:.6f} {height:.6f}\")\n",
    "\n",
    "    # Save the annotations to a text file\n",
    "    output_file = os.path.join(output_dir, os.path.splitext(os.path.basename(json_path))[0] + \".txt\")\n",
    "    with open(output_file, 'w') as f:\n",
    "        f.write(\"\\n\".join(annotations))"
   ],
   "id": "36aca7705007160d",
   "outputs": [],
   "execution_count": 4
  },
  {
   "metadata": {
    "ExecuteTime": {
     "end_time": "2024-11-26T08:20:22.167786Z",
     "start_time": "2024-11-26T08:20:22.162853Z"
    }
   },
   "cell_type": "code",
   "source": [
    "def convert_all_to_yolo(json_directory, output_directory, label_dict):\n",
    "    for json_file in os.listdir(json_directory):\n",
    "        if json_file.endswith(\".json\"):\n",
    "            json_path = os.path.join(json_directory, json_file)\n",
    "            convert_to_yolo(json_path, output_directory, label_dict)\n",
    "\n",
    "    print(f\"Annotations sauvegardées dans : {output_directory}\")"
   ],
   "id": "f541812aa5b39ad1",
   "outputs": [],
   "execution_count": 5
  },
  {
   "metadata": {
    "ExecuteTime": {
     "end_time": "2024-11-26T08:20:22.456496Z",
     "start_time": "2024-11-26T08:20:22.450153Z"
    }
   },
   "cell_type": "code",
   "source": [
    "# Path, only thing to change if needed\n",
    "json_directory = \"../datasets/annotations/\"\n",
    "output_directory = \"../datasets/annotations_yolo/\""
   ],
   "id": "25c461c4d9e2c992",
   "outputs": [],
   "execution_count": 6
  },
  {
   "metadata": {
    "ExecuteTime": {
     "end_time": "2024-11-26T08:20:48.670231Z",
     "start_time": "2024-11-26T08:20:22.680751Z"
    }
   },
   "cell_type": "code",
   "source": [
    "# Generate the label dictionary\n",
    "label_dict = generate_label_dict(json_directory, min_occurrences=100)\n",
    "\n",
    "# save the label dictionary\n",
    "with open(\"label_dict.json\", \"w\") as f:\n",
    "    json.dump(label_dict, f)\n",
    "\n",
    "print(\"Dictionnaire généré :\", label_dict)"
   ],
   "id": "ff0e59f17de9ab4a",
   "outputs": [
    {
     "name": "stdout",
     "output_type": "stream",
     "text": [
      "Dictionnaire généré : {'other-sign': 0, 'regulatory--keep-right--g1': 1, 'regulatory--priority-over-oncoming-vehicles--g1': 2, 'regulatory--height-limit--g1': 3, 'regulatory--maximum-speed-limit-35--g2': 4, 'warning--railroad-crossing-with-barriers--g1': 5, 'warning--curve-left--g2': 6, 'regulatory--keep-right--g4': 7, 'warning--pedestrians-crossing--g4': 8, 'complementary--keep-left--g1': 9, 'regulatory--maximum-speed-limit-45--g3': 10, 'complementary--chevron-right--g3': 11, 'regulatory--one-way-right--g2': 12, 'regulatory--yield--g1': 13, 'regulatory--one-way-straight--g1': 14, 'warning--curve-right--g1': 15, 'regulatory--no-entry--g1': 16, 'warning--pedestrians-crossing--g5': 17, 'warning--crossroads--g3': 18, 'complementary--chevron-left--g5': 19, 'information--motorway--g1': 20, 'regulatory--no-stopping--g15': 21, 'information--pedestrians-crossing--g1': 22, 'warning--railroad-crossing-without-barriers--g3': 23, 'regulatory--go-straight-or-turn-right--g1': 24, 'complementary--go-right--g1': 25, 'complementary--distance--g1': 26, 'warning--slippery-road-surface--g1': 27, 'warning--curve-left--g1': 28, 'information--parking--g1': 29, 'complementary--go-left--g1': 30, 'information--tram-bus-stop--g2': 31, 'warning--crossroads--g1': 32, 'regulatory--no-overtaking--g2': 33, 'regulatory--stop--g1': 34, 'regulatory--maximum-speed-limit-30--g1': 35, 'regulatory--priority-road--g4': 36, 'regulatory--pedestrians-only--g1': 37, 'regulatory--one-way-right--g3': 38, 'information--road-bump--g1': 39, 'warning--height-restriction--g2': 40, 'complementary--obstacle-delineator--g2': 41, 'regulatory--no-overtaking--g5': 42, 'information--food--g2': 43, 'warning--divided-highway-ends--g2': 44, 'regulatory--turn-right--g1': 45, 'complementary--chevron-left--g1': 46, 'regulatory--turn-left--g1': 47, 'regulatory--no-parking-or-no-stopping--g3': 48, 'warning--roundabout--g1': 49, 'regulatory--no-heavy-goods-vehicles--g1': 50, 'regulatory--maximum-speed-limit-60--g1': 51, 'regulatory--maximum-speed-limit-40--g1': 52, 'complementary--chevron-right--g1': 53, 'warning--road-bump--g1': 54, 'warning--uneven-road--g6': 55, 'regulatory--maximum-speed-limit-50--g1': 56, 'regulatory--no-parking--g5': 57, 'regulatory--turn-left--g3': 58, 'warning--junction-with-a-side-road-perpendicular-right--g3': 59, 'regulatory--maximum-speed-limit-100--g1': 60, 'warning--double-curve-first-right--g1': 61, 'regulatory--maximum-speed-limit-5--g1': 62, 'complementary--extent-of-prohibition-area-both-direction--g1': 63, 'warning--road-narrows-left--g2': 64, 'warning--children--g2': 65, 'information--parking--g5': 66, 'regulatory--no-u-turn--g3': 67, 'warning--trail-crossing--g2': 68, 'regulatory--go-straight-or-turn-left--g1': 69, 'regulatory--bicycles-only--g1': 70, 'warning--texts--g2': 71, 'regulatory--one-way-left--g1': 72, 'warning--road-narrows-right--g2': 73, 'regulatory--one-way-left--g3': 74, 'warning--double-curve-first-right--g2': 75, 'complementary--maximum-speed-limit-30--g1': 76, 'regulatory--no-u-turn--g1': 77, 'warning--narrow-bridge--g1': 78, 'regulatory--turn-right-ahead--g1': 79, 'information--parking--g3': 80, 'regulatory--maximum-speed-limit-70--g1': 81, 'regulatory--shared-path-pedestrians-and-bicycles--g1': 82, 'regulatory--no-pedestrians--g2': 83, 'regulatory--no-stopping--g2': 84, 'warning--roundabout--g25': 85, 'regulatory--no-parking--g2': 86, 'regulatory--keep-left--g1': 87, 'regulatory--go-straight--g1': 88, 'regulatory--no-overtaking--g1': 89, 'regulatory--no-parking-or-no-stopping--g2': 90, 'regulatory--road-closed-to-vehicles--g3': 91, 'regulatory--no-right-turn--g1': 92, 'regulatory--no-left-turn--g1': 93, 'warning--railroad-crossing-without-barriers--g4': 94, 'warning--texts--g1': 95, 'warning--junction-with-a-side-road-acute-left--g1': 96, 'regulatory--maximum-speed-limit-90--g1': 97, 'regulatory--maximum-speed-limit-110--g1': 98, 'warning--other-danger--g1': 99, 'regulatory--no-parking--g1': 100, 'information--bus-stop--g1': 101, 'warning--winding-road-first-left--g1': 102, 'warning--turn-right--g1': 103, 'regulatory--no-heavy-goods-vehicles--g4': 104, 'regulatory--weight-limit--g1': 105, 'regulatory--radar-enforced--g1': 106, 'regulatory--lane-control--g1': 107, 'regulatory--turn-right--g2': 108, 'warning--traffic-signals--g3': 109, 'complementary--distance--g3': 110, 'warning--traffic-signals--g1': 111, 'complementary--both-directions--g1': 112, 'warning--junction-with-a-side-road-perpendicular-right--g1': 113, 'regulatory--maximum-speed-limit-20--g1': 114, 'regulatory--maximum-speed-limit-25--g2': 115, 'regulatory--no-motor-vehicles-except-motorcycles--g2': 116, 'warning--curve-right--g2': 117, 'complementary--maximum-speed-limit-35--g1': 118, 'complementary--chevron-left--g3': 119, 'complementary--chevron-left--g2': 120, 'warning--double-curve-first-left--g1': 121, 'regulatory--maximum-speed-limit-30--g3': 122, 'regulatory--no-heavy-goods-vehicles--g2': 123, 'warning--traffic-merges-right--g1': 124, 'information--limited-access-road--g1': 125, 'regulatory--maximum-speed-limit-55--g2': 126, 'complementary--maximum-speed-limit-45--g1': 127, 'warning--junction-with-a-side-road-perpendicular-left--g3': 128, 'warning--pass-left-or-right--g2': 129, 'complementary--one-direction-right--g1': 130, 'regulatory--turn-left--g2': 131, 'regulatory--maximum-speed-limit-80--g1': 132, 'complementary--trucks--g1': 133, 'complementary--tow-away-zone--g1': 134, 'warning--roadworks--g1': 135, 'warning--children--g1': 136, 'warning--winding-road-first-right--g1': 137, 'regulatory--no-vehicles-carrying-dangerous-goods--g1': 138, 'warning--school-zone--g2': 139, 'regulatory--reversible-lanes--g2': 140, 'regulatory--no-parking-or-no-stopping--g1': 141, 'warning--traffic-merges-right--g2': 142, 'complementary--maximum-speed-limit-20--g1': 143, 'warning--slippery-road-surface--g2': 144, 'regulatory--one-way-left--g2': 145, 'regulatory--keep-left--g2': 146, 'regulatory--no-turn-on-red--g1': 147, 'complementary--turn-left--g2': 148, 'warning--texts--g3': 149, 'information--end-of-motorway--g1': 150, 'regulatory--pass-on-either-side--g1': 151, 'complementary--chevron-right--g5': 152, 'warning--trucks-crossing--g1': 153, 'warning--road-bump--g2': 154, 'complementary--obstacle-delineator--g1': 155, 'regulatory--maximum-speed-limit-10--g1': 156, 'regulatory--one-way-right--g1': 157, 'regulatory--roundabout--g1': 158, 'regulatory--no-turn-on-red--g2': 159, 'warning--turn-left--g1': 160, 'warning--stop-ahead--g9': 161, 'regulatory--mopeds-and-bicycles-only--g1': 162, 'regulatory--end-of-speed-limit-zone--g1': 163, 'complementary--distance--g2': 164, 'complementary--chevron-left--g4': 165, 'regulatory--turn-right--g3': 166, 'regulatory--no-right-turn--g2': 167, 'regulatory--left-turn-yield-on-green--g1': 168, 'warning--pedestrians-crossing--g1': 169, 'complementary--chevron-right-unsure--g6': 170, 'regulatory--maximum-speed-limit-120--g1': 171, 'information--disabled-persons--g1': 172, 'warning--road-narrows--g1': 173, 'regulatory--no-stopping--g5': 174, 'information--hospital--g1': 175, 'warning--railroad-intersection--g3': 176, 'warning--kangaloo-crossing--g1': 177, 'information--dead-end--g1': 178, 'warning--junction-with-a-side-road-perpendicular-left--g1': 179, 'regulatory--go-straight-or-turn-left--g3': 180}\n"
     ]
    }
   ],
   "execution_count": 7
  },
  {
   "metadata": {
    "collapsed": true,
    "ExecuteTime": {
     "end_time": "2024-11-26T08:21:15.223407Z",
     "start_time": "2024-11-26T08:20:48.776249Z"
    }
   },
   "cell_type": "code",
   "source": [
    "# Create the output directory if it does not exist\n",
    "os.makedirs(output_directory, exist_ok=True)\n",
    "\n",
    "# Load the label dictionary\n",
    "with open(\"label_dict.json\", \"r\") as f:\n",
    "    label_dict = json.load(f)\n",
    "\n",
    "# Convert all JSON files to YOLO format\n",
    "convert_all_to_yolo(json_directory, output_directory, label_dict)"
   ],
   "id": "initial_id",
   "outputs": [
    {
     "name": "stdout",
     "output_type": "stream",
     "text": [
      "Annotations sauvegardées dans : ../datasets/annotations_yolo/\n"
     ]
    }
   ],
   "execution_count": 8
  }
 ],
 "metadata": {
  "kernelspec": {
   "display_name": "Python 3",
   "language": "python",
   "name": "python3"
  },
  "language_info": {
   "codemirror_mode": {
    "name": "ipython",
    "version": 2
   },
   "file_extension": ".py",
   "mimetype": "text/x-python",
   "name": "python",
   "nbconvert_exporter": "python",
   "pygments_lexer": "ipython2",
   "version": "2.7.6"
  }
 },
 "nbformat": 4,
 "nbformat_minor": 5
}
